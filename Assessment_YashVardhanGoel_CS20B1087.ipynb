{
 "cells": [
  {
   "cell_type": "markdown",
   "id": "f76f6971",
   "metadata": {},
   "source": [
    "# Name: Yash Vardhan Goel  Roll No.: CS20B1087"
   ]
  },
  {
   "cell_type": "code",
   "execution_count": 1,
   "id": "ab5db7a9",
   "metadata": {},
   "outputs": [],
   "source": [
    "import pandas as pd"
   ]
  },
  {
   "cell_type": "code",
   "execution_count": 2,
   "id": "0da6ceec",
   "metadata": {},
   "outputs": [],
   "source": [
    "books=pd.read_csv('books.csv')"
   ]
  },
  {
   "cell_type": "code",
   "execution_count": 3,
   "id": "7b857276",
   "metadata": {},
   "outputs": [],
   "source": [
    "book_tags=pd.read_csv('book_tags.csv')"
   ]
  },
  {
   "cell_type": "code",
   "execution_count": 4,
   "id": "fc78cf15",
   "metadata": {},
   "outputs": [],
   "source": [
    "ratings=pd.read_csv('ratings.csv')"
   ]
  },
  {
   "cell_type": "code",
   "execution_count": 5,
   "id": "d42ef4ce",
   "metadata": {},
   "outputs": [
    {
     "data": {
      "text/html": [
       "<div>\n",
       "<style scoped>\n",
       "    .dataframe tbody tr th:only-of-type {\n",
       "        vertical-align: middle;\n",
       "    }\n",
       "\n",
       "    .dataframe tbody tr th {\n",
       "        vertical-align: top;\n",
       "    }\n",
       "\n",
       "    .dataframe thead th {\n",
       "        text-align: right;\n",
       "    }\n",
       "</style>\n",
       "<table border=\"1\" class=\"dataframe\">\n",
       "  <thead>\n",
       "    <tr style=\"text-align: right;\">\n",
       "      <th></th>\n",
       "      <th>book_id</th>\n",
       "      <th>goodreads_book_id</th>\n",
       "      <th>best_book_id</th>\n",
       "      <th>work_id</th>\n",
       "      <th>books_count</th>\n",
       "      <th>isbn</th>\n",
       "      <th>isbn13</th>\n",
       "      <th>authors</th>\n",
       "      <th>original_publication_year</th>\n",
       "      <th>original_title</th>\n",
       "      <th>...</th>\n",
       "      <th>work_ratings_count</th>\n",
       "      <th>work_text_reviews_count</th>\n",
       "      <th>ratings_1</th>\n",
       "      <th>ratings_2</th>\n",
       "      <th>ratings_3</th>\n",
       "      <th>ratings_4</th>\n",
       "      <th>ratings_5</th>\n",
       "      <th>image_url</th>\n",
       "      <th>small_image_url</th>\n",
       "      <th>NonEnglish</th>\n",
       "    </tr>\n",
       "  </thead>\n",
       "  <tbody>\n",
       "    <tr>\n",
       "      <th>0</th>\n",
       "      <td>15</td>\n",
       "      <td>48855</td>\n",
       "      <td>48855</td>\n",
       "      <td>3532896</td>\n",
       "      <td>710</td>\n",
       "      <td>553296981</td>\n",
       "      <td>9.780553e+12</td>\n",
       "      <td>Anne Frank, Eleanor Roosevelt, B.M. Mooyaart-D...</td>\n",
       "      <td>1947.0</td>\n",
       "      <td>Het Achterhuis: Dagboekbrieven 14 juni 1942 - ...</td>\n",
       "      <td>...</td>\n",
       "      <td>2024493</td>\n",
       "      <td>20825</td>\n",
       "      <td>45225</td>\n",
       "      <td>91270</td>\n",
       "      <td>355756</td>\n",
       "      <td>656870</td>\n",
       "      <td>875372</td>\n",
       "      <td>https://images.gr-assets.com/books/1358276407m...</td>\n",
       "      <td>https://images.gr-assets.com/books/1358276407s...</td>\n",
       "      <td>0</td>\n",
       "    </tr>\n",
       "    <tr>\n",
       "      <th>1</th>\n",
       "      <td>40</td>\n",
       "      <td>19501</td>\n",
       "      <td>19501</td>\n",
       "      <td>3352398</td>\n",
       "      <td>185</td>\n",
       "      <td>143038419</td>\n",
       "      <td>9.780143e+12</td>\n",
       "      <td>Elizabeth Gilbert</td>\n",
       "      <td>2006.0</td>\n",
       "      <td>Eat, pray, love: one woman's search for everyt...</td>\n",
       "      <td>...</td>\n",
       "      <td>1206597</td>\n",
       "      <td>49714</td>\n",
       "      <td>100373</td>\n",
       "      <td>149549</td>\n",
       "      <td>310212</td>\n",
       "      <td>332191</td>\n",
       "      <td>314272</td>\n",
       "      <td>https://images.gr-assets.com/books/1503066414m...</td>\n",
       "      <td>https://images.gr-assets.com/books/1503066414s...</td>\n",
       "      <td>0</td>\n",
       "    </tr>\n",
       "  </tbody>\n",
       "</table>\n",
       "<p>2 rows × 24 columns</p>\n",
       "</div>"
      ],
      "text/plain": [
       "   book_id  goodreads_book_id  best_book_id  work_id  books_count       isbn  \\\n",
       "0       15              48855         48855  3532896          710  553296981   \n",
       "1       40              19501         19501  3352398          185  143038419   \n",
       "\n",
       "         isbn13                                            authors  \\\n",
       "0  9.780553e+12  Anne Frank, Eleanor Roosevelt, B.M. Mooyaart-D...   \n",
       "1  9.780143e+12                                  Elizabeth Gilbert   \n",
       "\n",
       "   original_publication_year  \\\n",
       "0                     1947.0   \n",
       "1                     2006.0   \n",
       "\n",
       "                                      original_title  ... work_ratings_count  \\\n",
       "0  Het Achterhuis: Dagboekbrieven 14 juni 1942 - ...  ...            2024493   \n",
       "1  Eat, pray, love: one woman's search for everyt...  ...            1206597   \n",
       "\n",
       "  work_text_reviews_count  ratings_1  ratings_2  ratings_3  ratings_4  \\\n",
       "0                   20825      45225      91270     355756     656870   \n",
       "1                   49714     100373     149549     310212     332191   \n",
       "\n",
       "   ratings_5                                          image_url  \\\n",
       "0     875372  https://images.gr-assets.com/books/1358276407m...   \n",
       "1     314272  https://images.gr-assets.com/books/1503066414m...   \n",
       "\n",
       "                                     small_image_url  NonEnglish  \n",
       "0  https://images.gr-assets.com/books/1358276407s...           0  \n",
       "1  https://images.gr-assets.com/books/1503066414s...           0  \n",
       "\n",
       "[2 rows x 24 columns]"
      ]
     },
     "execution_count": 5,
     "metadata": {},
     "output_type": "execute_result"
    }
   ],
   "source": [
    "books.head(2)"
   ]
  },
  {
   "cell_type": "code",
   "execution_count": 6,
   "id": "21b6f0d3",
   "metadata": {},
   "outputs": [
    {
     "data": {
      "text/html": [
       "<div>\n",
       "<style scoped>\n",
       "    .dataframe tbody tr th:only-of-type {\n",
       "        vertical-align: middle;\n",
       "    }\n",
       "\n",
       "    .dataframe tbody tr th {\n",
       "        vertical-align: top;\n",
       "    }\n",
       "\n",
       "    .dataframe thead th {\n",
       "        text-align: right;\n",
       "    }\n",
       "</style>\n",
       "<table border=\"1\" class=\"dataframe\">\n",
       "  <thead>\n",
       "    <tr style=\"text-align: right;\">\n",
       "      <th></th>\n",
       "      <th>goodreads_book_id</th>\n",
       "      <th>tag_id</th>\n",
       "      <th>count</th>\n",
       "    </tr>\n",
       "  </thead>\n",
       "  <tbody>\n",
       "    <tr>\n",
       "      <th>0</th>\n",
       "      <td>386</td>\n",
       "      <td>30574</td>\n",
       "      <td>565</td>\n",
       "    </tr>\n",
       "    <tr>\n",
       "      <th>1</th>\n",
       "      <td>386</td>\n",
       "      <td>19733</td>\n",
       "      <td>280</td>\n",
       "    </tr>\n",
       "  </tbody>\n",
       "</table>\n",
       "</div>"
      ],
      "text/plain": [
       "   goodreads_book_id  tag_id  count\n",
       "0                386   30574    565\n",
       "1                386   19733    280"
      ]
     },
     "execution_count": 6,
     "metadata": {},
     "output_type": "execute_result"
    }
   ],
   "source": [
    "book_tags.head(2)"
   ]
  },
  {
   "cell_type": "code",
   "execution_count": 7,
   "id": "0f6907d3",
   "metadata": {},
   "outputs": [
    {
     "data": {
      "text/html": [
       "<div>\n",
       "<style scoped>\n",
       "    .dataframe tbody tr th:only-of-type {\n",
       "        vertical-align: middle;\n",
       "    }\n",
       "\n",
       "    .dataframe tbody tr th {\n",
       "        vertical-align: top;\n",
       "    }\n",
       "\n",
       "    .dataframe thead th {\n",
       "        text-align: right;\n",
       "    }\n",
       "</style>\n",
       "<table border=\"1\" class=\"dataframe\">\n",
       "  <thead>\n",
       "    <tr style=\"text-align: right;\">\n",
       "      <th></th>\n",
       "      <th>user_id</th>\n",
       "      <th>book_id</th>\n",
       "      <th>rating</th>\n",
       "    </tr>\n",
       "  </thead>\n",
       "  <tbody>\n",
       "    <tr>\n",
       "      <th>0</th>\n",
       "      <td>8</td>\n",
       "      <td>2584</td>\n",
       "      <td>5</td>\n",
       "    </tr>\n",
       "    <tr>\n",
       "      <th>1</th>\n",
       "      <td>4</td>\n",
       "      <td>87</td>\n",
       "      <td>5</td>\n",
       "    </tr>\n",
       "  </tbody>\n",
       "</table>\n",
       "</div>"
      ],
      "text/plain": [
       "   user_id  book_id  rating\n",
       "0        8     2584       5\n",
       "1        4       87       5"
      ]
     },
     "execution_count": 7,
     "metadata": {},
     "output_type": "execute_result"
    }
   ],
   "source": [
    "ratings.head(2)"
   ]
  },
  {
   "cell_type": "markdown",
   "id": "7dc03016",
   "metadata": {},
   "source": [
    "# Q1: How many books do not have an original title [books.csv]?"
   ]
  },
  {
   "cell_type": "code",
   "execution_count": 8,
   "id": "04536a97",
   "metadata": {},
   "outputs": [
    {
     "name": "stdout",
     "output_type": "stream",
     "text": [
      "36\n"
     ]
    }
   ],
   "source": [
    "books_without_title = books['original_title'].isnull().sum()\n",
    "print(books_without_title)"
   ]
  },
  {
   "cell_type": "markdown",
   "id": "cf80f3ba",
   "metadata": {},
   "source": [
    "# Q2: How many unique books are present in the dataset ? Evaluate based on the 'book_id' after removing records containing null values for original_title column in [books.csv] and corresponding records in [book_tags.csv] and [ratings.csv]"
   ]
  },
  {
   "cell_type": "code",
   "execution_count": 15,
   "id": "48aa9ece",
   "metadata": {},
   "outputs": [
    {
     "name": "stdout",
     "output_type": "stream",
     "text": [
      "Number of unique books = 363\n"
     ]
    }
   ],
   "source": [
    "books = books.dropna(subset=['original_title'])\n",
    "book_tags = book_tags[book_tags['goodreads_book_id'].isin(books['goodreads_book_id'])]\n",
    "ratings = ratings[ratings['book_id'].isin(books['book_id'])]\n",
    "unique_books_count = books['book_id'].nunique()\n",
    "print(\"Number of unique books =\",unique_books_count)\n",
    "#Note here that I am cleaning the data based on the conditions given in the question and same is being used lateron in the program"
   ]
  },
  {
   "cell_type": "markdown",
   "id": "ae278ad2",
   "metadata": {},
   "source": [
    "# Q3: How many unique users are present in the dataset [ratings.csv] ?"
   ]
  },
  {
   "cell_type": "code",
   "execution_count": 11,
   "id": "157698a2",
   "metadata": {},
   "outputs": [
    {
     "name": "stdout",
     "output_type": "stream",
     "text": [
      "40573\n"
     ]
    }
   ],
   "source": [
    "print(ratings['user_id'].nunique())"
   ]
  },
  {
   "cell_type": "markdown",
   "id": "d4c333e1",
   "metadata": {},
   "source": [
    "# Q4: How many unique tags are there in the dataset [book_tags.csv] ?\n",
    "\n"
   ]
  },
  {
   "cell_type": "code",
   "execution_count": 12,
   "id": "7de5287d",
   "metadata": {},
   "outputs": [
    {
     "name": "stdout",
     "output_type": "stream",
     "text": [
      "3438\n"
     ]
    }
   ],
   "source": [
    "print(book_tags['tag_id'].nunique())"
   ]
  },
  {
   "cell_type": "markdown",
   "id": "2ff4a9ab",
   "metadata": {},
   "source": [
    "# Q5: Which tag_id is the most frequently used ie. mapped with the highest number of books [book_tags.csv] ? (In case of more than one tag, mention the tag id with the least numerical value)’."
   ]
  },
  {
   "cell_type": "code",
   "execution_count": 13,
   "id": "243c0fa1",
   "metadata": {},
   "outputs": [
    {
     "name": "stdout",
     "output_type": "stream",
     "text": [
      "The most frequently used tag_id is: 4600\n"
     ]
    }
   ],
   "source": [
    "most_used_tag_id = book_tags['tag_id'].value_counts().idxmax()\n",
    "print(f\"The most frequently used tag_id is: {most_used_tag_id}\")"
   ]
  },
  {
   "cell_type": "markdown",
   "id": "29eccd83",
   "metadata": {},
   "source": [
    "# Q6: Which book (title) has the most number of counts of tags given by the user [book_tags.csv,books.csv] .\n",
    "\n"
   ]
  },
  {
   "cell_type": "code",
   "execution_count": 14,
   "id": "397cfd94",
   "metadata": {},
   "outputs": [
    {
     "name": "stdout",
     "output_type": "stream",
     "text": [
      "The book with the most tags is: Another Bullshit Night in Suck City: A Memoir\n"
     ]
    }
   ],
   "source": [
    "merged_data = pd.merge(book_tags, books, on='goodreads_book_id')\n",
    "book_counts = merged_data['original_title'].value_counts()\n",
    "most_tagged_book = book_counts.idxmax()\n",
    "\n",
    "print(f\"The book with the most tags is: {most_tagged_book}\")"
   ]
  },
  {
   "cell_type": "markdown",
   "id": "80b87ea8",
   "metadata": {},
   "source": [
    "# Q7: Plot a bar chart with top 20 unique tags in descending order of ‘user records’ (the number of users tagged the given tag_id with the goodreads_book_id) [book_tags.csv]"
   ]
  },
  {
   "cell_type": "code",
   "execution_count": 16,
   "id": "a97693bd",
   "metadata": {},
   "outputs": [
    {
     "name": "stdout",
     "output_type": "stream",
     "text": [
      "      tag_id  user_records\n",
      "576     4600           363\n",
      "2278   21689           362\n",
      "3138   30574           362\n",
      "580     4605           361\n",
      "2299   21773           360\n",
      "2410   22743           357\n",
      "588     4615           357\n",
      "1284   11557           357\n",
      "673     5207           356\n",
      "1036    8717           354\n",
      "1919   18045           354\n",
      "570     4594           351\n",
      "2043   19738           346\n",
      "2038   19733           341\n",
      "2412   22753           336\n",
      "3131   30521           335\n",
      "2046   19742           326\n",
      "467     3611           323\n",
      "1861   17213           319\n",
      "3333   32586           310\n",
      "[ 4600 21689 30574  4605 21773 22743  4615 11557  5207  8717 18045  4594\n",
      " 19738 19733 22753 30521 19742  3611 17213 32586]\n",
      "[363 362 362 361 360 357 357 357 356 354 354 351 346 341 336 335 326 323\n",
      " 319 310]\n"
     ]
    },
    {
     "data": {
      "image/png": "[encoded data removed]",
      "text/plain": [
       "<Figure size 640x480 with 1 Axes>"
      ]
     },
     "metadata": {},
     "output_type": "display_data"
    }
   ],
   "source": [
    "import matplotlib.pyplot as plt\n",
    "import numpy as np\n",
    "tag_counts = book_tags.groupby('tag_id').size().reset_index(name='user_records')\n",
    "tag_counts = tag_counts.sort_values(by='user_records', ascending=False) #putting in descending order\n",
    "top_20_tags = tag_counts.head(20) #Select the top 20 tags\n",
    "print(top_20_tags)\n",
    "x=np.array(top_20_tags['tag_id'])\n",
    "y=np.array(top_20_tags['user_records'])\n",
    "\n",
    "# print(x)\n",
    "# print(y)\n",
    "plt.bar(y,x)\n",
    "plt.xlabel('Number of User Records')\n",
    "plt.ylabel('Tag ID')\n",
    "plt.title('Top 20 Tags by User Records')\n",
    "plt.show()"
   ]
  },
  {
   "cell_type": "code",
   "execution_count": null,
   "id": "8ab17622",
   "metadata": {},
   "outputs": [],
   "source": [
    "# x1 = np.array([ 4600, 21689 , 4605, 30574, 21773, 11557 ,22743 , 4615,  5207 , 8717 ,18045 , 4594,\n",
    "#  19733, 19738, 30521 ,22753 ,19742  ,3611, 17213,  1642])\n",
    "# y1 = np.array([402 ,401, 400, 400, 399, 396, 395, 395, 394 ,391 ,391, 389, 379 ,378 ,370, 367, 363, 359,\n",
    "#  353 ,346])\n",
    "\n",
    "# plt.bar(y1,x1)\n",
    "# plt.show()"
   ]
  },
  {
   "cell_type": "code",
   "execution_count": null,
   "id": "85d57da3",
   "metadata": {},
   "outputs": [],
   "source": []
  }
 ],
 "metadata": {
  "kernelspec": {
   "display_name": "Python 3 (ipykernel)",
   "language": "python",
   "name": "python3"
  },
  "language_info": {
   "codemirror_mode": {
    "name": "ipython",
    "version": 3
   },
   "file_extension": ".py",
   "mimetype": "text/x-python",
   "name": "python",
   "nbconvert_exporter": "python",
   "pygments_lexer": "ipython3",
   "version": "3.11.4"
  }
 },
 "nbformat": 4,
 "nbformat_minor": 5
}
